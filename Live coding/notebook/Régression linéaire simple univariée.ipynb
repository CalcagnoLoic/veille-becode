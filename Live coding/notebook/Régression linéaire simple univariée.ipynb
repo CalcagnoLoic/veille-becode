{
 "cells": [
  {
   "cell_type": "markdown",
   "id": "6bf24908",
   "metadata": {},
   "source": [
    "# La régression linéaire \n",
    "\n",
    "## Rappel \n",
    "\n",
    "Algorithme simple permettant de trouver une droite qui se rapproche le plus possible d'un ensemble de points. L'ensemble des points correspond donc au training set. \n",
    "\n",
    "Le but de la régression est de faire des estimations. \n",
    "\n",
    "\n",
    "## Présentation du problème \n",
    "\n",
    "Supposons que vous soyez le chef de direction d’une franchise de camions ambulants (Food Trucks). Vous envisagez différentes villes pour ouvrir un nouveau point de vente. La chaîne a déjà des camions dans différentes villes et vous avez des données pour les bénéfices et les populations des villes.\n",
    "Vous souhaitez utiliser ces données pour vous aider à choisir la ville pour y ouvrir un nouveau point de vente.\n",
    "\n",
    "\n",
    "## Chargement des données "
   ]
  },
  {
   "cell_type": "code",
   "execution_count": 7,
   "id": "860c8983",
   "metadata": {},
   "outputs": [
    {
     "name": "stdout",
     "output_type": "stream",
     "text": [
      "     6.1101    17.592\n",
      "0    5.5277   9.13020\n",
      "1    8.5186  13.66200\n",
      "2    7.0032  11.85400\n",
      "3    5.8598   6.82330\n",
      "4    8.3829  11.88600\n",
      "..      ...       ...\n",
      "91   5.8707   7.20290\n",
      "92   5.3054   1.98690\n",
      "93   8.2934   0.14454\n",
      "94  13.3940   9.05510\n",
      "95   5.4369   0.61705\n",
      "\n",
      "[96 rows x 2 columns]\n"
     ]
    }
   ],
   "source": [
    "#Importation de la librairie Pandas\n",
    "import pandas as pd\n",
    "df = pd.read_csv(\"../data/univariate_linear_regression_dataset.csv\")\n",
    "print(df)"
   ]
  },
  {
   "cell_type": "code",
   "execution_count": 8,
   "id": "ab8035f4",
   "metadata": {},
   "outputs": [],
   "source": [
    "#Sélection de la première colonne du dataset (col0)\n",
    "#iloc = permet de récup une donnée par sa position\n",
    "\n",
    "x = df.iloc[0:len(df), 0]\n",
    "\n",
    "#Sélection de la deuxième colonne du dataset (col1)\n",
    "\n",
    "y = df.iloc[0:len(df), 1]"
   ]
  },
  {
   "cell_type": "markdown",
   "id": "a177e625",
   "metadata": {},
   "source": [
    "## Visualisation des données \n",
    "\n",
    "On visualise le *training set* via un nuage de points"
   ]
  },
  {
   "cell_type": "code",
   "execution_count": 10,
   "id": "5ce4d4ff",
   "metadata": {},
   "outputs": [
    {
     "data": {
      "image/png": "[encoded data removed]",
      "text/plain": [
       "<Figure size 432x288 with 1 Axes>"
      ]
     },
     "metadata": {
      "needs_background": "light"
     },
     "output_type": "display_data"
    }
   ],
   "source": [
    "import matplotlib.pyplot as plt\n",
    "\n",
    "axes = plt.axes()\n",
    "axes.grid()\n",
    "plt.scatter(x,y)\n",
    "plt.xlabel(\"Population de la ville en 10 000\")\n",
    "plt.ylabel(\"Profit en 10 000$\")\n",
    "plt.show()"
   ]
  },
  {
   "cell_type": "markdown",
   "id": "e7b76638",
   "metadata": {},
   "source": [
    "## Application de l'algorithme\n",
    "\n",
    "Le but est de trouver une fonction prédictive qui prend en entrée une taille de population et produit en sortie une estimation du gain espéré. \n",
    "\n",
    "**ATTENTION** ICi exceptionnellememnt, pas de séparation en training set et test set pour éviter un sur-apprentissage. Nos data sont à la fois le training set et le test set! \n",
    "\n",
    "Je récupère les informations de la fonction *linregress* afin de faire ma régression linéaire pour obtenir ma fonction prédictive :\n",
    "\n",
    "*F(x) = slope * x + intercept*"
   ]
  },
  {
   "cell_type": "code",
   "execution_count": 11,
   "id": "7475b9ff",
   "metadata": {},
   "outputs": [],
   "source": [
    "from scipy import stats\n",
    "slope, intercept, r_value, p_value, std_err = stats.linregress(x,y)\n",
    "\n",
    "#définition de la fonction prédictive \n",
    "def predict(x):\n",
    "    return slope * x + intercept"
   ]
  },
  {
   "cell_type": "markdown",
   "id": "4604cf58",
   "metadata": {},
   "source": [
    "## Visualisation de la droite de régression"
   ]
  },
  {
   "cell_type": "code",
   "execution_count": 23,
   "id": "ec395da3",
   "metadata": {},
   "outputs": [
    {
     "data": {
      "image/png": "[encoded data removed]",
      "text/plain": [
       "<Figure size 432x288 with 1 Axes>"
      ]
     },
     "metadata": {
      "needs_background": "light"
     },
     "output_type": "display_data"
    }
   ],
   "source": [
    "plt.scatter(x,y)\n",
    "plt.xlabel(\"Population de la ville en 10 000\")\n",
    "plt.ylabel(\"Profit en 10 000$\")\n",
    "plt.plot(x, predict(x), c='r')\n",
    "plt.show()"
   ]
  },
  {
   "cell_type": "markdown",
   "id": "bf28b3e1",
   "metadata": {},
   "source": [
    "## Test de la droite de régression"
   ]
  },
  {
   "cell_type": "code",
   "execution_count": 26,
   "id": "668e4bba",
   "metadata": {},
   "outputs": [
    {
     "name": "stdout",
     "output_type": "stream",
     "text": [
      "Prédiction pour 17.5 :  17.025572937972186\n",
      "Prédiction pour 20 :  20.05944107274308\n",
      "Prédiction pour 22.5 :  23.09330920751398\n",
      "Prédiction pour 13 :  11.56461029538457\n"
     ]
    }
   ],
   "source": [
    "print('Prédiction pour 17.5 : ', predict(17.5))\n",
    "print('Prédiction pour 20 : ', predict(20))\n",
    "print('Prédiction pour 22.5 : ', predict(22.5))\n",
    "print('Prédiction pour 13 : ', predict(13))"
   ]
  }
 ],
 "metadata": {
  "kernelspec": {
   "display_name": "Python 3 (ipykernel)",
   "language": "python",
   "name": "python3"
  },
  "language_info": {
   "codemirror_mode": {
    "name": "ipython",
    "version": 3
   },
   "file_extension": ".py",
   "mimetype": "text/x-python",
   "name": "python",
   "nbconvert_exporter": "python",
   "pygments_lexer": "ipython3",
   "version": "3.9.7"
  }
 },
 "nbformat": 4,
 "nbformat_minor": 5
}
